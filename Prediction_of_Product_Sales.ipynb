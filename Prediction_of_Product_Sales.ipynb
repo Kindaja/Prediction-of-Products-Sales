{
  "nbformat": 4,
  "nbformat_minor": 0,
  "metadata": {
    "colab": {
      "provenance": [],
      "authorship_tag": "ABX9TyMpME/cH1O9okIlZElrqtTd",
      "include_colab_link": true
    },
    "kernelspec": {
      "name": "python3",
      "display_name": "Python 3"
    },
    "language_info": {
      "name": "python"
    }
  },
  "cells": [
    {
      "cell_type": "markdown",
      "metadata": {
        "id": "view-in-github",
        "colab_type": "text"
      },
      "source": [
        "<a href=\"https://colab.research.google.com/github/Kindaja/Prediction-of-Products-Sales/blob/main/Prediction_of_Product_Sales.ipynb\" target=\"_parent\"><img src=\"https://colab.research.google.com/assets/colab-badge.svg\" alt=\"Open In Colab\"/></a>"
      ]
    },
    {
      "cell_type": "code",
      "execution_count": null,
      "metadata": {
        "id": "ohw1DH1yUhKy"
      },
      "outputs": [],
      "source": []
    },
    {
      "cell_type": "markdown",
      "source": [
        "# **Prediction of Prodauct Sales**\n",
        "-Kinda Jamal"
      ],
      "metadata": {
        "id": "BlXkcC7HVB6v"
      }
    },
    {
      "cell_type": "markdown",
      "source": [
        "##**Project** **Overview**"
      ],
      "metadata": {
        "id": "W_hErM5XVZb6"
      }
    },
    {
      "cell_type": "markdown",
      "source": [
        "## **Load** **and** **Inspect** **Data**"
      ],
      "metadata": {
        "id": "ufBmEdHRWBIu"
      }
    },
    {
      "cell_type": "code",
      "source": [],
      "metadata": {
        "id": "I6uI1Jq8VpMi"
      },
      "execution_count": null,
      "outputs": []
    },
    {
      "cell_type": "markdown",
      "source": [
        "## **Clean Data**"
      ],
      "metadata": {
        "id": "ySLqsb9nWIiT"
      }
    },
    {
      "cell_type": "code",
      "source": [],
      "metadata": {
        "id": "2h95XrglWPo3"
      },
      "execution_count": null,
      "outputs": []
    },
    {
      "cell_type": "markdown",
      "source": [
        "## **Exploratory Data Analysis**"
      ],
      "metadata": {
        "id": "Q1wu8CvMWQMc"
      }
    },
    {
      "cell_type": "code",
      "source": [],
      "metadata": {
        "id": "PB7ssBqoWWac"
      },
      "execution_count": null,
      "outputs": []
    },
    {
      "cell_type": "markdown",
      "source": [
        "## **Feature Inspection**"
      ],
      "metadata": {
        "id": "nHfSiKY1WW73"
      }
    },
    {
      "cell_type": "code",
      "source": [],
      "metadata": {
        "id": "_mvHVF9YWeHN"
      },
      "execution_count": null,
      "outputs": []
    }
  ]
}